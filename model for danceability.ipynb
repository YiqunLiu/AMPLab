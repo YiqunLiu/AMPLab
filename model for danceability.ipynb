{
  "nbformat": 4,
  "nbformat_minor": 0,
  "metadata": {
    "colab": {
      "name": "MIR project.ipynb",
      "provenance": [],
      "collapsed_sections": [
        "QcxKGBqBh0ws"
      ],
      "machine_shape": "hm"
    },
    "kernelspec": {
      "name": "python3",
      "display_name": "Python 3"
    },
    "accelerator": "GPU"
  },
  "cells": [
    {
      "cell_type": "markdown",
      "metadata": {
        "id": "PbwP67jEQP6d",
        "colab_type": "text"
      },
      "source": [
        "# Automatic Tagging on Music Danceability Using Convolutional Neural Network\n",
        "\n",
        "To run this notebook, please add this [file](https://drive.google.com/drive/folders/1y2am_lt2iuCbmEJuEOXLbpGyy7GWUBct?usp=sharing) to your google drive. It includes:\n",
        "\n",
        "\n",
        "*   audio: chunk 5, 10, 13, 14, 16, 18, 19 of the MTG-Jamendo Dataset\n",
        "*   annotation: manual annotation files corresponding to the audio chunk\n",
        "*   model: model checkpoint for resuming training and inference, and other necessary modules\n",
        "*   notation: labels, paths, and partition split information\n",
        "\n",
        "To use a GPU:\n",
        "**Runtime > Change runtime type**\n",
        "and select **GPU** as **Hardware accelerator**\n",
        "\n",
        "However, it still takes a long time to train the model for even one epoch (about 3h). You can skip the \"training\" part to see the result by running the \"evaluation\" part, which takes about 0.5h for test.\n"
      ]
    },
    {
      "cell_type": "markdown",
      "metadata": {
        "id": "wrRqClxab1a9",
        "colab_type": "text"
      },
      "source": [
        "## Preparation"
      ]
    },
    {
      "cell_type": "code",
      "metadata": {
        "id": "qhf_ckzIt6IA",
        "colab_type": "code",
        "outputId": "282c5f29-a449-44dc-d732-b8f7f14452f6",
        "colab": {
          "base_uri": "https://localhost:8080/",
          "height": 122
        }
      },
      "source": [
        "from google.colab import drive\n",
        "drive.mount('/content/drive')"
      ],
      "execution_count": 0,
      "outputs": [
        {
          "output_type": "stream",
          "text": [
            "Go to this URL in a browser: https://accounts.google.com/o/oauth2/auth?client_id=947318989803-6bn6qk8qdgf4n4g3pfee6491hc0brc4i.apps.googleusercontent.com&redirect_uri=urn%3aietf%3awg%3aoauth%3a2.0%3aoob&response_type=code&scope=email%20https%3a%2f%2fwww.googleapis.com%2fauth%2fdocs.test%20https%3a%2f%2fwww.googleapis.com%2fauth%2fdrive%20https%3a%2f%2fwww.googleapis.com%2fauth%2fdrive.photos.readonly%20https%3a%2f%2fwww.googleapis.com%2fauth%2fpeopleapi.readonly\n",
            "\n",
            "Enter your authorization code:\n",
            "··········\n",
            "Mounted at /content/drive\n"
          ],
          "name": "stdout"
        }
      ]
    },
    {
      "cell_type": "code",
      "metadata": {
        "id": "QtxiDi1SEK2g",
        "colab_type": "code",
        "outputId": "da46a020-3478-4561-bb57-826084d52c0e",
        "colab": {
          "base_uri": "https://localhost:8080/",
          "height": 139
        }
      },
      "source": [
        "!pip install torchaudio"
      ],
      "execution_count": 0,
      "outputs": [
        {
          "output_type": "stream",
          "text": [
            "Collecting torchaudio\n",
            "\u001b[?25l  Downloading https://files.pythonhosted.org/packages/6e/bc/3ebc127162d27bed33dc914606f10117d106680baae7ce83603ea09985fd/torchaudio-0.4.0-cp36-cp36m-manylinux1_x86_64.whl (3.1MB)\n",
            "\u001b[K     |████████████████████████████████| 3.1MB 2.8MB/s \n",
            "\u001b[?25hRequirement already satisfied: torch==1.4.0 in /usr/local/lib/python3.6/dist-packages (from torchaudio) (1.4.0)\n",
            "Installing collected packages: torchaudio\n",
            "Successfully installed torchaudio-0.4.0\n"
          ],
          "name": "stdout"
        }
      ]
    },
    {
      "cell_type": "code",
      "metadata": {
        "id": "c2A8LTSruIl6",
        "colab_type": "code",
        "colab": {}
      },
      "source": [
        "import os\n",
        "import sys\n",
        "import time\n",
        "import datetime\n",
        "import numpy as np\n",
        "import pickle\n",
        "import json\n",
        "import sklearn.metrics\n",
        "import pandas as pd\n",
        "import matplotlib.pyplot as plt\n",
        "import matplotlib.image as mpimg\n",
        "import seaborn\n",
        "import torch\n",
        "from torch import nn\n",
        "from torch.utils import data\n",
        "import torch.nn.functional as F\n",
        "from torch.autograd import Variable\n",
        "import torchaudio\n",
        "\n",
        "root_dir = '/content/drive/My Drive/MIR project'\n",
        "audio_dir = '/content/drive/My Drive/MIR project/audio'\n",
        "annotation_dir = '/content/drive/My Drive/MIR project/annotation'\n",
        "model_dir = '/content/drive/My Drive/MIR project/model'\n",
        "notation_dir = '/content/drive/My Drive/MIR project/notation'"
      ],
      "execution_count": 0,
      "outputs": []
    },
    {
      "cell_type": "markdown",
      "metadata": {
        "id": "sc0X8Khykj49",
        "colab_type": "text"
      },
      "source": [
        "### Notations\n",
        "Create two dictionaries ```labels``` and ```audio_paths``` to store the \"danceability\" and path for each audio track. (It takes some time to run through all the files. For convenience, I save the these dictionaries in google drive and we can load them directly).\n",
        "\n",
        "Data split: set chunk 5, 10, 13, 14, 16 as training set, chunk 19 as validation set, and chunk 18 as test set.\n"
      ]
    },
    {
      "cell_type": "code",
      "metadata": {
        "id": "Mp9Eq2iUkohv",
        "colab_type": "code",
        "colab": {}
      },
      "source": [
        "# labels = {}\n",
        "\n",
        "# for root, dirs, files in os.walk(annotation_dir):\n",
        "#   for file in files:\n",
        "#     if file.startswith('miscellaneous'):\n",
        "#       ID = file.split('_')[1][:-9]\n",
        "#       with open(os.path.join(root, file)) as f:\n",
        "#         annotation = json.load(f)\n",
        "#       labels[ID] = annotation['danceability']\n",
        "\n",
        "labels_file = os.path.join(notation_dir, 'labels.json')\n",
        "# with open(labels_file, \"w\") as fp:\n",
        "#   json.dump(labels, fp)\n",
        "\n",
        "with open(labels_file) as f:\n",
        "  labels = json.load(f)"
      ],
      "execution_count": 0,
      "outputs": []
    },
    {
      "cell_type": "code",
      "metadata": {
        "id": "NUkOLLB5ugSW",
        "colab_type": "code",
        "colab": {}
      },
      "source": [
        "# chunk_train = ['5','10','13','14','16']\n",
        "# chunk_validation = ['19']\n",
        "# chunk_test = ['18']\n",
        "# audio_paths = {}\n",
        "# partition = {\n",
        "#     'train':[],\n",
        "#     'validation':[],\n",
        "#     'test':[]\n",
        "# }\n",
        "\n",
        "# for root, dirs, files in os.walk(audio_dir):\n",
        "#   for file in files:\n",
        "#     if file.endswith('.mp3'):\n",
        "#       chunk_number = root.split('/')[-2]\n",
        "#       ID = file.split('.')[0]\n",
        "\n",
        "#       if ID in labels: # Omit those audio tracks that have no corresponding annotations, \n",
        "#         audio_paths[ID] = os.path.join(root, file)\n",
        "        \n",
        "#         if chunk_number in chunk_train:\n",
        "#           partition['train'].append(ID)\n",
        "#         elif chunk_number in chunk_validation:\n",
        "#           partition['validation'].append(ID)\n",
        "#         elif chunk_number in chunk_test:\n",
        "#           partition['test'].append(ID)\n",
        "\n",
        "partition_file = os.path.join(notation_dir, 'partition.json')\n",
        "# with open(partition_file, \"w\") as fp1:\n",
        "#   json.dump(partition, fp1)\n",
        "with open(partition_file) as fp1:\n",
        "  partition = json.load(fp1)\n",
        "\n",
        "path_file = os.path.join(notation_dir, 'paths.json')\n",
        "# with open(path_file, \"w\") as fp2:\n",
        "#   json.dump(audio_paths, fp2)\n",
        "with open(path_file) as fp2:\n",
        "  audio_paths = json.load(fp2)"
      ],
      "execution_count": 0,
      "outputs": []
    },
    {
      "cell_type": "markdown",
      "metadata": {
        "id": "w5HlJzKg9KVO",
        "colab_type": "text"
      },
      "source": [
        "## Data loader"
      ]
    },
    {
      "cell_type": "code",
      "metadata": {
        "colab_type": "code",
        "id": "Cu69Le_kJBX8",
        "outputId": "86e719ee-cd33-4ee3-8491-cee229ef60fd",
        "colab": {
          "base_uri": "https://localhost:8080/",
          "height": 68
        }
      },
      "source": [
        "class Dataset(data.Dataset):\n",
        "    def __init__(self, list_IDs, labels, paths): # partition[train/val/test], labels, audio_paths\n",
        "        self.labels = labels\n",
        "        self.list_IDs = list_IDs\n",
        "        self.paths = paths\n",
        "\n",
        "    def __len__(self):\n",
        "        return len(self.list_IDs)\n",
        "\n",
        "    def __getitem__(self, index): # use torchaudio.load\n",
        "        ID = self.list_IDs[index]\n",
        "        si, ei = torchaudio.info(self.paths[ID])\n",
        "        rate = int(si.rate) # read the sample rate\n",
        "        waveform, sr = torchaudio.load(self.paths[ID], num_frames=rate*30, offset=0) # load the first 30s of each audio\n",
        "        waveform = torchaudio.transforms.Resample(orig_freq = sr, new_freq=16000)(waveform) # resample\n",
        "        waveform = torch.mean(waveform, 0) # downmix to mono\n",
        "        labels = int(self.labels[ID])\n",
        "        return waveform, labels\n",
        "\n",
        "train_set = Dataset(partition['train'], labels, audio_paths)\n",
        "validation_set = Dataset(partition['validation'], labels, audio_paths)\n",
        "test_set = Dataset(partition['test'], labels, audio_paths)\n",
        "\n",
        "print(\"Train set size: \" + str(len(train_set)))\n",
        "print(\"Validation set size: \" + str(len(validation_set)))\n",
        "print(\"Test set size: \" + str(len(test_set)))\n",
        "\n",
        "# Parameters\n",
        "params = {'batch_size': 8,\n",
        "          'shuffle': True,\n",
        "          'num_workers': 1,\n",
        "          'drop_last': True}\n",
        "\n",
        "train_loader = data.DataLoader(train_set, **params)\n",
        "validation_loader = data.DataLoader(validation_set, **params)\n",
        "test_loader = data.DataLoader(test_set, **params)"
      ],
      "execution_count": 0,
      "outputs": [
        {
          "output_type": "stream",
          "text": [
            "Train set size: 2705\n",
            "Validation set size: 576\n",
            "Test set size: 563\n"
          ],
          "name": "stdout"
        }
      ]
    },
    {
      "cell_type": "markdown",
      "metadata": {
        "id": "Zh4ncZOHbmEX",
        "colab_type": "text"
      },
      "source": [
        "## Models"
      ]
    },
    {
      "cell_type": "code",
      "metadata": {
        "id": "fcKNad3gMbH8",
        "colab_type": "code",
        "colab": {}
      },
      "source": [
        "sys.path.insert(1, model_dir)\n",
        "\n",
        "from modules import Conv_1d, ResSE_1d, Conv_2d, Res_2d, Conv_V, Conv_H, HarmonicSTFT, Res_2d_mp\n",
        "from attention_modules import BertConfig, BertEncoder, BertEmbeddings, BertPooler, PositionalEncoding"
      ],
      "execution_count": 0,
      "outputs": []
    },
    {
      "cell_type": "markdown",
      "metadata": {
        "id": "QcxKGBqBh0ws",
        "colab_type": "text"
      },
      "source": [
        "### MusiCNN"
      ]
    },
    {
      "cell_type": "code",
      "metadata": {
        "id": "rOJqhrzeh2or",
        "colab_type": "code",
        "colab": {}
      },
      "source": [
        "class Musicnn(nn.Module):\n",
        "    '''\n",
        "    Pons et al. 2017\n",
        "    End-to-end learning for music audio tagging at scale.\n",
        "    This is the updated implementation of the original paper. Referred to the Musicnn code.\n",
        "    https://github.com/jordipons/musicnn\n",
        "    '''\n",
        "    def __init__(self,\n",
        "                sample_rate=16000,\n",
        "                n_fft=512,\n",
        "                f_min=0.0,\n",
        "                f_max=8000.0,\n",
        "                n_mels=96,\n",
        "                n_class=50,\n",
        "                dataset='mtat'):\n",
        "        super(Musicnn, self).__init__()\n",
        "\n",
        "        # Spectrogram\n",
        "        self.spec = torchaudio.transforms.MelSpectrogram(sample_rate=sample_rate,\n",
        "                                                         n_fft=n_fft,\n",
        "                                                         f_min=f_min,\n",
        "                                                         f_max=f_max,\n",
        "                                                         n_mels=n_mels)\n",
        "        self.to_db = torchaudio.transforms.AmplitudeToDB()\n",
        "        self.spec_bn = nn.BatchNorm2d(1)\n",
        "\n",
        "        # Pons front-end\n",
        "        m1 = Conv_V(1, 204, (int(0.7*96), 7))\n",
        "        m2 = Conv_V(1, 204, (int(0.4*96), 7))\n",
        "        m3 = Conv_H(1, 51, 129)\n",
        "        m4 = Conv_H(1, 51, 65)\n",
        "        m5 = Conv_H(1, 51, 33)\n",
        "        self.layers = nn.ModuleList([m1, m2, m3, m4, m5])\n",
        "\n",
        "        # Pons back-end\n",
        "        backend_channel= 512 if dataset=='msd' else 64\n",
        "        self.layer1 = Conv_1d(561, backend_channel, 7, 1, 1)\n",
        "        self.layer2 = Conv_1d(backend_channel, backend_channel, 7, 1, 1)\n",
        "        self.layer3 = Conv_1d(backend_channel, backend_channel, 7, 1, 1)\n",
        "\n",
        "        # Dense\n",
        "        dense_channel = 500 if dataset=='msd' else 200\n",
        "        self.dense1 = nn.Linear((561+(backend_channel*3))*2, dense_channel)\n",
        "        self.bn = nn.BatchNorm1d(dense_channel)\n",
        "        self.relu = nn.ReLU()\n",
        "        self.dropout = nn.Dropout(0.5)\n",
        "        self.dense2 = nn.Linear(dense_channel, n_class)\n",
        "\n",
        "    def forward(self, x):\n",
        "        # Spectrogram\n",
        "        x = self.spec(x)\n",
        "        x = self.to_db(x)\n",
        "        x = x.unsqueeze(1)\n",
        "        x = self.spec_bn(x)\n",
        "\n",
        "        # Pons front-end\n",
        "        out = []\n",
        "        for layer in self.layers:\n",
        "            out.append(layer(x))\n",
        "        out = torch.cat(out, dim=1)\n",
        "\n",
        "        # Pons back-end\n",
        "        length = out.size(2)\n",
        "        res1 = self.layer1(out)\n",
        "        res2 = self.layer2(res1) + res1\n",
        "        res3 = self.layer3(res2) + res2\n",
        "        out = torch.cat([out, res1, res2, res3], 1)\n",
        "\n",
        "        mp = nn.MaxPool1d(length)(out)\n",
        "        avgp = nn.AvgPool1d(length)(out)\n",
        "\n",
        "        out = torch.cat([mp, avgp], dim=1)\n",
        "        out = out.squeeze(2)\n",
        "\n",
        "        out = self.relu(self.bn(self.dense1(out)))\n",
        "        out = self.dropout(out)\n",
        "        out = self.dense2(out)\n",
        "        out = nn.Sigmoid()(out)\n",
        "\n",
        "        return out"
      ],
      "execution_count": 0,
      "outputs": []
    },
    {
      "cell_type": "markdown",
      "metadata": {
        "id": "9p00VwyEi4Fe",
        "colab_type": "text"
      },
      "source": [
        "## Training"
      ]
    },
    {
      "cell_type": "code",
      "metadata": {
        "id": "UlZiVmOui99k",
        "colab_type": "code",
        "colab": {}
      },
      "source": [
        "model = Musicnn()\n",
        "model = model.cuda() # to use GPUs\n",
        "optimizer = torch.optim.Adam(model.parameters(), 1e-4)\n",
        "reconst_loss = nn.CrossEntropyLoss()"
      ],
      "execution_count": 0,
      "outputs": []
    },
    {
      "cell_type": "code",
      "metadata": {
        "id": "tfyGQArJjrFz",
        "colab_type": "code",
        "outputId": "06efc587-fc04-48d5-8644-a472678760bd",
        "colab": {
          "base_uri": "https://localhost:8080/",
          "height": 306
        }
      },
      "source": [
        "start_t = time.time()\n",
        "num_epoch = 1\n",
        "for epoch in range(num_epoch):\n",
        "    # load checkpoint\n",
        "    checkpoint = torch.load(os.path.join(model_dir, 'checkpoint.pt'))\n",
        "    model.load_state_dict(checkpoint['model_state_dict'])\n",
        "    optimizer.load_state_dict(checkpoint['optimizer_state_dict'])\n",
        "    epoch = checkpoint['epoch']\n",
        "    loss = checkpoint['loss']\n",
        "\n",
        "    model.train()\n",
        "\n",
        "    ctr = 0\n",
        "    for x, y in train_loader:\n",
        "        ctr += 1\n",
        "        # to GPU\n",
        "        x = x.cuda()\n",
        "        y = y.cuda()\n",
        "        \n",
        "        # predict\n",
        "        prd = model(x)\n",
        "        loss = reconst_loss(prd, y)\n",
        "        \n",
        "        # back propagation\n",
        "        optimizer.zero_grad()\n",
        "        loss.backward()\n",
        "        optimizer.step()\n",
        "\n",
        "        # print log\n",
        "        if ctr % 15 == 0:\n",
        "            print(\"[%s] Epoch [%d/%d] Iter [%d/%d] train loss: %.4f Elapsed: %s\" %\n",
        "                 (datetime.datetime.now().strftime('%Y-%m-%d %H:%M:%S'),\n",
        "                 epoch+1, num_epoch, ctr, len(train_loader), loss.item(),\n",
        "                 datetime.timedelta(seconds=time.time()-start_t)))\n",
        "    \n",
        "    # save checkpoint for resuming training\n",
        "    torch.save({\n",
        "        'epoch': epoch,\n",
        "        'model_state_dict': model.state_dict(),\n",
        "        'optimizer_state_dict': optimizer.state_dict(),\n",
        "        'loss': loss\n",
        "        }, os.path.join(model_dir, 'checkpoint.pt'))\n",
        "\n",
        "\n",
        "    model.eval()\n",
        "    ctr = 0\n",
        "    prd_array = []\n",
        "    gt_array = []\n",
        "    for x, y in validation_loader:\n",
        "        ctr += 1\n",
        "        # to GPU\n",
        "        x = x.cuda()\n",
        "        y = y.cuda()\n",
        "        \n",
        "        # predict\n",
        "        prd = model(x)\n",
        "        loss = reconst_loss(prd, y)\n",
        "        \n",
        "        # append\n",
        "        prd = prd.detach().cpu()\n",
        "        y = y.detach().cpu()\n",
        "        for _p in prd:\n",
        "            prd_array.append(int(_p.argmax()))\n",
        "        for _y in y:\n",
        "            gt_array.append(int(_y))\n",
        "        \n",
        "        # print log\n",
        "        if ctr % 7 == 0:\n",
        "            print(\"[%s] Epoch [%d/%d] Iter [%d/%d] validation loss: %.4f Elapsed: %s\" %\n",
        "                 (datetime.datetime.now().strftime('%Y-%m-%d %H:%M:%S'),\n",
        "                 epoch+1, num_epoch, ctr, len(validation_loader), loss.item(),\n",
        "                 datetime.timedelta(seconds=time.time()-start_t)))\n",
        "                             \n",
        "    print(\"accuracy: %.4f\" % sklearn.metrics.accuracy_score(gt_array, prd_array))"
      ],
      "execution_count": 0,
      "outputs": [
        {
          "output_type": "stream",
          "text": [
            "[2020-03-30 13:59:25] Epoch [1/1] Iter [15/338] train loss: 3.0001 Elapsed: 0:09:23.723955\n",
            "[2020-03-30 14:08:42] Epoch [1/1] Iter [30/338] train loss: 2.9932 Elapsed: 0:18:40.679093\n",
            "[2020-03-30 14:18:13] Epoch [1/1] Iter [45/338] train loss: 2.9914 Elapsed: 0:28:11.627579\n",
            "[2020-03-30 14:27:30] Epoch [1/1] Iter [60/338] train loss: 3.0015 Elapsed: 0:37:28.469467\n",
            "[2020-03-30 14:36:26] Epoch [1/1] Iter [75/338] train loss: 2.9959 Elapsed: 0:46:24.112053\n",
            "[2020-03-30 14:45:21] Epoch [1/1] Iter [90/338] train loss: 3.0062 Elapsed: 0:55:19.627416\n",
            "[2020-03-30 14:54:32] Epoch [1/1] Iter [105/338] train loss: 2.9913 Elapsed: 1:04:30.114479\n",
            "[2020-03-30 15:03:48] Epoch [1/1] Iter [120/338] train loss: 2.9903 Elapsed: 1:13:46.852998\n",
            "[2020-03-30 15:12:37] Epoch [1/1] Iter [135/338] train loss: 2.9934 Elapsed: 1:22:35.285098\n",
            "[2020-03-30 15:21:40] Epoch [1/1] Iter [150/338] train loss: 2.9896 Elapsed: 1:31:37.892848\n",
            "[2020-03-30 15:30:59] Epoch [1/1] Iter [165/338] train loss: 3.0085 Elapsed: 1:40:57.146922\n",
            "[2020-03-30 15:40:05] Epoch [1/1] Iter [180/338] train loss: 2.9923 Elapsed: 1:50:03.192000\n",
            "[2020-03-30 15:49:22] Epoch [1/1] Iter [195/338] train loss: 2.9907 Elapsed: 1:59:20.789380\n",
            "[2020-03-30 15:58:39] Epoch [1/1] Iter [210/338] train loss: 2.9862 Elapsed: 2:08:36.884386\n",
            "[2020-03-30 16:07:46] Epoch [1/1] Iter [225/338] train loss: 2.9864 Elapsed: 2:17:44.389574\n",
            "[2020-03-30 16:17:08] Epoch [1/1] Iter [240/338] train loss: 2.9879 Elapsed: 2:27:05.999941\n",
            "[2020-03-30 16:26:27] Epoch [1/1] Iter [255/338] train loss: 2.9949 Elapsed: 2:36:25.173371\n"
          ],
          "name": "stdout"
        }
      ]
    },
    {
      "cell_type": "markdown",
      "metadata": {
        "id": "frpaFe6Vxvea",
        "colab_type": "text"
      },
      "source": [
        "## Evaluation"
      ]
    },
    {
      "cell_type": "code",
      "metadata": {
        "id": "GTinGOVlrhqD",
        "colab_type": "code",
        "colab": {}
      },
      "source": [
        "# load model\n",
        "checkpoint = torch.load(os.path.join(model_dir, 'checkpoint.pt'))\n",
        "model.load_state_dict(checkpoint['model_state_dict'])\n",
        "\n",
        "model.eval()\n",
        "prd_array = []\n",
        "gt_array = []\n",
        "for x, y in test_loader:\n",
        "    # to GPU\n",
        "    x = x.cuda()\n",
        "    y = y.cuda()\n",
        "\n",
        "    # predict\n",
        "    prd = model(x)\n",
        "    loss = reconst_loss(prd, y)\n",
        "\n",
        "    # append\n",
        "    prd = prd.detach().cpu()\n",
        "    y = y.detach().cpu()\n",
        "    for _p in prd:\n",
        "        prd_array.append(int(_p.argmax()))\n",
        "    for _y in y:\n",
        "        gt_array.append(int(_y))\n",
        "\n",
        "print(\"accuracy: %.4f\" % sklearn.metrics.accuracy_score(gt_array, prd_array)) \n",
        "# plt.figure()\n",
        "# cm = sklearn.metrics.confusion_matrix(gt_array, prd_array)\n",
        "# danceability = ['not_danceable', 'danceable']\n",
        "# seaborn.heatmap(cm, annot=True, xticklabels=danceability, yticklabels=danceability)"
      ],
      "execution_count": 0,
      "outputs": []
    },
    {
      "cell_type": "code",
      "metadata": {
        "id": "MzDaor26oNYx",
        "colab_type": "code",
        "outputId": "5f328bb8-5b75-48fe-8510-6df4add2ff2a",
        "colab": {
          "base_uri": "https://localhost:8080/",
          "height": 411
        }
      },
      "source": [
        "danceability = ['not_danceable', 'danceable']\n",
        "plt.figure()\n",
        "conf_mat = pd.DataFrame(sklearn.metrics.confusion_matrix(gt_array, prd_array), columns = danceability, index = danceability)\n",
        "conf_mat.index.name = 'Actual'\n",
        "conf_mat.columns.name = 'Predicted'\n",
        "plt.figure(figsize = (7, 5))\n",
        "seaborn.set(font_scale = 1.2)\n",
        "ax = plt.axes()\n",
        "cm = seaborn.heatmap(conf_mat, cmap = \"Blues\", annot = True, fmt = 'd', ax = ax)\n",
        "ax.set_title('danceability'+'_self-trained-MusiCNN')\n",
        "save_cm = cm.get_figure()\n",
        "save_cm.savefig(task_name+'self-trained-MusiCNN.png')"
      ],
      "execution_count": 0,
      "outputs": [
        {
          "output_type": "stream",
          "text": [
            "accuracy: 0.7571\n"
          ],
          "name": "stdout"
        },
        {
          "output_type": "execute_result",
          "data": {
            "text/plain": [
              "Text(0.5, 1.0, 'danceability_self-trained-MusiCNN')"
            ]
          },
          "metadata": {
            "tags": []
          },
          "execution_count": 13
        },
        {
          "output_type": "display_data",
          "data": {
            "text/plain": [
              "<Figure size 432x288 with 0 Axes>"
            ]
          },
          "metadata": {
            "tags": []
          }
        },
        {
          "output_type": "display_data",
          "data": {
            "image/png": "[encoded data removed]",
            "text/plain": [
              "<Figure size 504x360 with 2 Axes>"
            ]
          },
          "metadata": {
            "tags": []
          }
        }
      ]
    },
    {
      "cell_type": "code",
      "metadata": {
        "id": "OopvKEGFtg26",
        "colab_type": "code",
        "colab": {}
      },
      "source": [
        ""
      ],
      "execution_count": 0,
      "outputs": []
    }
  ]
}